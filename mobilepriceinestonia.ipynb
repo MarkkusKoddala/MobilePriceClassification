{
 "cells": [
  {
   "cell_type": "code",
   "execution_count": 121,
   "metadata": {},
   "outputs": [],
   "source": [
    "import pandas as pd"
   ]
  },
  {
   "cell_type": "code",
   "execution_count": 131,
   "metadata": {},
   "outputs": [
    {
     "name": "stdout",
     "output_type": "stream",
     "text": [
      "        Price\n",
      "0       14.55\n",
      "1       16.20\n",
      "2       16.31\n",
      "3       17.85\n",
      "4       18.99\n",
      "...       ...\n",
      "2007  1988.00\n",
      "2008  2010.99\n",
      "2009  2099.00\n",
      "2010  2132.59\n",
      "2011  2269.00\n",
      "\n",
      "[2012 rows x 1 columns]\n"
     ]
    }
   ],
   "source": [
    "file_path = 'phone_details.txt'  # Replace with your file path\n",
    "data = pd.read_csv(file_path, header=None)\n",
    "\n",
    "data = data.rename(columns={0: 'Price'})\n",
    "\n",
    "\n"
   ]
  },
  {
   "cell_type": "code",
   "execution_count": 132,
   "metadata": {},
   "outputs": [
    {
     "name": "stdout",
     "output_type": "stream",
     "text": [
      "Category 1 Price Range: (14.55, 169.7425)\n",
      "Category 2 Price Range: (169.7425, 333.995)\n",
      "Category 3 Price Range: (333.995, 728.0)\n",
      "Category 4 Price Range: (728.0, 2269.0)\n",
      "The value 16512 is present in the following row(s): []\n",
      "Index(['Price'], dtype='object')\n"
     ]
    }
   ],
   "source": [
    "\n",
    "\n",
    "data['Price'] = pd.to_numeric(data['Price'], errors='coerce')\n",
    "\n",
    "\n",
    "# Calculate quartiles (25th, 50th, 75th percentiles) for 'Price' column\n",
    "q1 = data['Price'].quantile(0.25)\n",
    "median = data['Price'].quantile(0.50)\n",
    "q3 = data['Price'].quantile(0.75)\n",
    "\n",
    "# Define price ranges for each category\n",
    "category_1_range = (data['Price'].min(), q1)\n",
    "category_2_range = (q1, median)\n",
    "category_3_range = (median, q3)\n",
    "category_4_range = (q3, data['Price'].max())\n",
    "\n",
    "# Print price ranges for each category\n",
    "print(f\"Category 1 Price Range: {category_1_range}\")\n",
    "print(f\"Category 2 Price Range: {category_2_range}\")\n",
    "print(f\"Category 3 Price Range: {category_3_range}\")\n",
    "print(f\"Category 4 Price Range: {category_4_range}\")\n",
    "\n"
   ]
  }
 ],
 "metadata": {
  "kernelspec": {
   "display_name": "Python 3",
   "language": "python",
   "name": "python3"
  },
  "language_info": {
   "codemirror_mode": {
    "name": "ipython",
    "version": 3
   },
   "file_extension": ".py",
   "mimetype": "text/x-python",
   "name": "python",
   "nbconvert_exporter": "python",
   "pygments_lexer": "ipython3",
   "version": "3.10.11"
  }
 },
 "nbformat": 4,
 "nbformat_minor": 2
}
